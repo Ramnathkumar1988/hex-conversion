{
 "cells": [
  {
   "cell_type": "code",
   "execution_count": 1,
   "metadata": {},
   "outputs": [
    {
     "name": "stdout",
     "output_type": "stream",
     "text": [
      "Enter the value of a5\n",
      "Enter the value of b4\n",
      "Type 1 to input x value manually\n",
      "Type 2 to input x as a many valued vector implemented as python array\n",
      "Enter choice 1 or 22\n",
      "[0.001   0.01108 0.02116 0.03124 0.04132 0.0514  0.06148 0.07156 0.08164\n",
      " 0.09172 0.1018  0.11188 0.12196 0.13204 0.14212 0.1522  0.16228 0.17236\n",
      " 0.18244 0.19252 0.2026  0.21268 0.22276 0.23284 0.24292 0.253   0.26308\n",
      " 0.27316 0.28324 0.29332 0.3034  0.31348 0.32356 0.33364 0.34372 0.3538\n",
      " 0.36388 0.37396 0.38404 0.39412 0.4042  0.41428 0.42436 0.43444 0.44452\n",
      " 0.4546  0.46468 0.47476 0.48484 0.49492 0.505   0.51508 0.52516 0.53524\n",
      " 0.54532 0.5554  0.56548 0.57556 0.58564 0.59572 0.6058  0.61588 0.62596\n",
      " 0.63604 0.64612 0.6562  0.66628 0.67636 0.68644 0.69652 0.7066  0.71668\n",
      " 0.72676 0.73684 0.74692 0.757   0.76708 0.77716 0.78724 0.79732 0.8074\n",
      " 0.81748 0.82756 0.83764 0.84772 0.8578  0.86788 0.87796 0.88804 0.89812\n",
      " 0.9082  0.91828 0.92836 0.93844 0.94852 0.9586  0.96868 0.97876 0.98884\n",
      " 0.99892]\n",
      "[2.79160840e-10 4.08131912e-06 5.26448400e-05 2.42465933e-04\n",
      " 7.19151324e-04 1.66824514e-03 3.30692285e-03 5.87625844e-03\n",
      " 9.63404995e-03 1.48481884e-02 2.17905552e-02 3.07314331e-02\n",
      " 4.19344158e-02 5.56518015e-02 7.21204547e-02 9.15581224e-02\n",
      " 1.14160189e-01 1.40096856e-01 1.69510729e-01 2.02514800e-01\n",
      " 2.39190810e-01 2.79587975e-01 3.23722062e-01 3.71574794e-01\n",
      " 4.23093586e-01 4.78191576e-01 5.36747950e-01 5.98608538e-01\n",
      " 6.63586675e-01 7.31464305e-01 8.01993314e-01 8.74897076e-01\n",
      " 9.49872208e-01 1.02659050e+00 1.10470101e+00 1.18383236e+00\n",
      " 1.26359508e+00 1.34358419e+00 1.42338179e+00 1.50255984e+00\n",
      " 1.58068294e+00 1.65731119e+00 1.73200319e+00 1.80431894e+00\n",
      " 1.87382287e+00 1.94008679e+00 2.00269292e+00 2.06123683e+00\n",
      " 2.11533037e+00 2.16460453e+00 2.20871225e+00 2.24733114e+00\n",
      " 2.28016607e+00 2.30695174e+00 2.32745498e+00 2.34147706e+00\n",
      " 2.34885572e+00 2.34946708e+00 2.34322737e+00 2.33009445e+00\n",
      " 2.31006908e+00 2.28319601e+00 2.24956478e+00 2.20931029e+00\n",
      " 2.16261308e+00 2.10969927e+00 2.05084031e+00 1.98635227e+00\n",
      " 1.91659490e+00 1.84197030e+00 1.76292117e+00 1.67992878e+00\n",
      " 1.59351049e+00 1.50421682e+00 1.41262817e+00 1.31935106e+00\n",
      " 1.22501389e+00 1.13026229e+00 1.03575392e+00 9.42152816e-01\n",
      " 8.50123184e-01 7.60322700e-01 6.73395233e-01 5.89963022e-01\n",
      " 5.10618274e-01 4.35914172e-01 3.66355274e-01 3.02387300e-01\n",
      " 2.44386276e-01 1.92647027e-01 1.47371012e-01 1.08653472e-01\n",
      " 7.64698859e-02 5.06617174e-02 3.09214333e-02 1.67767856e-02\n",
      " 7.57433700e-03 2.46221752e-03 3.72095758e-04 3.51198079e-07]\n"
     ]
    },
    {
     "data": {
      "text/plain": [
       "<Figure size 640x480 with 1 Axes>"
      ]
     },
     "metadata": {},
     "output_type": "display_data"
    }
   ],
   "source": [
    "import sys\n",
    "import matplotlib.pyplot as plt\n",
    "import numpy as np\n",
    "from numpy import arange\n",
    "def fact(n):\n",
    "\tif n > 1:\n",
    "\t\treturn(n * fact(n-1))\n",
    "\telse:\n",
    "\t\treturn(1)\n",
    "def minus(m):\n",
    "\tm = m-1\n",
    "\treturn(m)\n",
    "#used this to perform (n-1) factorial\n",
    "def beta(x,a,b):\n",
    "\tp = fact(minus(a+b))\t\n",
    "\tq = fact(minus(a))\n",
    "\tr = fact(minus(b))\n",
    "\tt = x**(a-1)\n",
    "\ty = (1-x)**(b-1)\n",
    "\tbeta = (p*t*y)/(q*r)\n",
    "\treturn(beta)\n",
    "\n",
    "a=float(input(\"Enter the value of a\"))\n",
    "b=float(input(\"Enter the value of b\"))\n",
    "\n",
    "print (\"Type 1 to input x value manually\")\n",
    "print (\"Type 2 to input x as a many valued vector implemented as python array\")\n",
    "choice=float(input(\"Enter choice 1 or 2\"))\n",
    "\n",
    "if choice == 1:\n",
    "\tx = float(input(\"Enter value of x\"))\n",
    "else:\n",
    "\tx = np.arange(.001,.999,.01008)\n",
    "l = beta(x,a,b)\n",
    "print(x)\n",
    "print(l)\n",
    "plt.plot(x,l)\n",
    "plt.show()\n",
    "#PROGRAM EXPLANATION: Factorial function is declared forllowed by minus functions for feeding n-1 to factorial. Beta definetion is given. Input for a and b is obtained from user and program throws two choices for x. 1. give one value or take it from a array vector (np.arange). beta is called and x and l are the x and y axis for matplot.  \n"
   ]
  },
  {
   "cell_type": "code",
   "execution_count": null,
   "metadata": {},
   "outputs": [],
   "source": []
  }
 ],
 "metadata": {
  "kernelspec": {
   "display_name": "Python 3",
   "language": "python",
   "name": "python3"
  },
  "language_info": {
   "codemirror_mode": {
    "name": "ipython",
    "version": 3
   },
   "file_extension": ".py",
   "mimetype": "text/x-python",
   "name": "python",
   "nbconvert_exporter": "python",
   "pygments_lexer": "ipython3",
   "version": "3.7.0"
  }
 },
 "nbformat": 4,
 "nbformat_minor": 2
}
